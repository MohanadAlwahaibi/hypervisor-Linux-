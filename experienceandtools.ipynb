{
 "cells": [
  {
   "cell_type": "markdown",
   "id": "add9c5d7",
   "metadata": {},
   "source": [
    "# What is a Hypervisor?\n",
    "\n",
    "a hypervisor is a software that creates and runs virtual machines (VMs)\n",
    "\n",
    "# Hypervisor has two types \n",
    "## Type 1\n",
    "\n",
    "a hypervisor type 1 it runs directly on the host's hardware to control the hardware\n",
    "and to manage guest operating systems (KVM, Xen, VMware ESXi)\n",
    "\n",
    "\n",
    "## Type 2 \n",
    "\n",
    "relies on the host OS for device support and management (virtualBox , vmware, oracle VM)\n",
    "\n",
    "\n"
   ]
  },
  {
   "cell_type": "markdown",
   "id": "a4883452",
   "metadata": {},
   "source": []
  }
 ],
 "metadata": {
  "language_info": {
   "name": "python"
  }
 },
 "nbformat": 4,
 "nbformat_minor": 5
}
