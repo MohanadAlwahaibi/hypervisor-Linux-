{
 "cells": [
  {
   "cell_type": "markdown",
   "id": "6485365b",
   "metadata": {},
   "source": [
    "# Hypervisor & Server Management Notes\n",
    "This notebook contains key concepts, commands, and tools related to hypervisors, Linux commands, SSH, virtual environments, and hosting a web application using NGINX and AWS."
   ]
  },
  {
   "cell_type": "markdown",
   "id": "3ce34273",
   "metadata": {},
   "source": [
    "## 🖥️ What is a Hypervisor?\n",
    "A **hypervisor** is software that creates and runs virtual machines (VMs)."
   ]
  },
  {
   "cell_type": "markdown",
   "id": "c3ab666b",
   "metadata": {},
   "source": [
    "### Type 1 Hypervisor\n",
    "- Runs **directly on the host hardware**.\n",
    "- Controls the hardware and manages guest operating systems.\n",
    "- Examples: KVM, Xen, VMware ESXi"
   ]
  },
  {
   "cell_type": "markdown",
   "id": "c137425f",
   "metadata": {},
   "source": [
    "### Type 2 Hypervisor\n",
    "- Runs **on a host operating system** like any other software.\n",
    "- Relies on the host OS for device support and management.\n",
    "- Examples: VirtualBox, VMware Workstation, Oracle VM"
   ]
  },
  {
   "cell_type": "markdown",
   "id": "04414cac",
   "metadata": {},
   "source": [
    "## 🌐 Network Tools\n",
    "- **Ping** uses ICMP to check if a host is reachable.\n",
    "- If the ping fails or there's packet loss:\n",
    "  - Host might be down.\n",
    "  - Firewall could be blocking it."
   ]
  },
  {
   "cell_type": "markdown",
   "id": "001f448f",
   "metadata": {},
   "source": [
    "## 🧰 Common Linux Commands\n",
    "```bash\n",
    "man <tool>          # Show manual page for a tool\n",
    "ls -al              # List all files including hidden\n",
    "ps -aef             # Show all running processes\n",
    "ps -aef | grep 'exercise.py'   # Filter processes\n",
    "kill -9 <PID>       # Force kill a process by ID\n",
    "```"
   ]
  },
  {
   "cell_type": "markdown",
   "id": "8695ce4b",
   "metadata": {},
   "source": [
    "## 📁 Environment & File Commands\n",
    "```bash\n",
    "echo $JAVA_APP      # Show environment variable\n",
    "env                 # Show all environment variables\n",
    "cd ~                # Go to home directory\n",
    "cp main.py ./dir    # Copy file\n",
    "mv app.py ../       # Move file\n",
    "mv app.py new.py    # Rename file\n",
    "```"
   ]
  },
  {
   "cell_type": "markdown",
   "id": "b445f9fe",
   "metadata": {},
   "source": [
    "## 🔐 SSH and Remote Access\n",
    "- Use **SSH server app** (like OpenSSH)\n",
    "- Commands:\n",
    "```bash\n",
    "systemctl enable|disable|restart ssh\n",
    "systemctl status ssh\n",
    "ssh -p 22 user@192.168.100.236\n",
    "```\n",
    "- Tools:\n",
    "  - WinSCP (GUI for file transfer)\n",
    "  - PuTTY (SSH client)"
   ]
  },
  {
   "cell_type": "markdown",
   "id": "3f7e6280",
   "metadata": {},
   "source": [
    "## 🐍 Python & Virtual Environments\n",
    "```bash\n",
    "whereis python3         # Find Python location\n",
    "which python3\n",
    "sudo apt install python3-venv    # Install venv support\n",
    "python3 -m venv ./myvenv         # Create virtual env\n",
    "source myvenv/bin/activate       # Activate venv\n",
    "deactivate                       # Exit venv\n",
    "pip install -r requirements.txt  # Install packages from file\n",
    "pip freeze > requirements.txt    # Save current packages\n",
    "```"
   ]
  },
  {
   "cell_type": "markdown",
   "id": "a0d6b0b2",
   "metadata": {},
   "source": [
    "## ⚡ FastAPI and APIs\n",
    "- `pip install fastapi[all]`\n",
    "- Create API endpoints (study `@app.get`, `@app.post`)\n",
    "- Run with `uvicorn`"
   ]
  },
  {
   "cell_type": "markdown",
   "id": "d75c3b97",
   "metadata": {},
   "source": [
    "## 🌍 Hosting with NGINX\n",
    "1. Rent a machine (e.g., AWS Lightsail)\n",
    "2. Install NGINX:\n",
    "```bash\n",
    "sudo apt install nginx\n",
    "systemctl status nginx.service\n",
    "```\n",
    "3. Copy website files to `/var/www/html`\n",
    "```bash\n",
    "sudo chown -R user:user /var/www/html\n",
    "```\n",
    "4. Access via `http://<IP>`"
   ]
  },
  {
   "cell_type": "markdown",
   "id": "73fdd420",
   "metadata": {},
   "source": [
    "## ☁️ AWS Lightsail Setup\n",
    "- Create Linux (Ubuntu 24) instance\n",
    "- Choose 2GB memory\n",
    "- Attach static IP & open port 443 (HTTPS)\n",
    "- Download private key for SSH\n",
    "- Steps:\n",
    "  1. Install NGINX\n",
    "  2. Upload your site\n",
    "  3. Open IP in browser"
   ]
  },
  {
   "cell_type": "markdown",
   "id": "d056ed5d",
   "metadata": {},
   "source": [
    "## 🔒 Security Concepts\n",
    "- AES-256: Symmetric encryption\n",
    "- RSA: Public-key encryption\n",
    "- MITM (Man-in-the-Middle): Read about it\n",
    "- Let's Encrypt: Free SSL certificate\n",
    "- Public key = certificate content"
   ]
  },
  {
   "cell_type": "markdown",
   "id": "26222668",
   "metadata": {},
   "source": [
    "## 🛠️ Tools and Other Notes\n",
    "- Use `scp` to copy files from Windows to Linux\n",
    "- Use Remote SSH extension (VS Code)\n",
    "- Rebooting computing: not secure\n",
    "- Pydantic: Library to define models in FastAPI\n",
    "- Load Balancer (e.g. NGINX, Traefik): distribute load across services"
   ]
  }
 ],
 "metadata": {},
 "nbformat": 4,
 "nbformat_minor": 5
}